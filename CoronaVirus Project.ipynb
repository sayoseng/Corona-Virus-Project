{
  "cells": [
    {
      "metadata": {
        "trusted": true
      },
      "cell_type": "code",
      "source": "import pandas as pd\nimport numpy as np\nfrom sklearn.model_selection import train_test_split\nfrom sklearn.metrics import mean_squared_error, r2_score\nfrom sklearn.linear_model import LinearRegression\nfrom sklearn.ensemble import RandomForestRegressor\nfrom sklearn.tree import DecisionTreeRegressor",
      "execution_count": 29,
      "outputs": []
    },
    {
      "metadata": {
        "trusted": true
      },
      "cell_type": "code",
      "source": "df = pd.read_csv('COVID_data_prepped.csv', sep=',')\n#data = pd.read_csv('binaryFuelConsumption.csv')",
      "execution_count": 9,
      "outputs": []
    },
    {
      "metadata": {
        "trusted": true
      },
      "cell_type": "code",
      "source": "df.head(10)",
      "execution_count": 10,
      "outputs": [
        {
          "output_type": "execute_result",
          "execution_count": 10,
          "data": {
            "text/html": "<div>\n<style scoped>\n    .dataframe tbody tr th:only-of-type {\n        vertical-align: middle;\n    }\n\n    .dataframe tbody tr th {\n        vertical-align: top;\n    }\n\n    .dataframe thead th {\n        text-align: right;\n    }\n</style>\n<table border=\"1\" class=\"dataframe\">\n  <thead>\n    <tr style=\"text-align: right;\">\n      <th></th>\n      <th>Unnamed: 0</th>\n      <th>New_cases</th>\n      <th>Cumulative_cases</th>\n      <th>New_deaths</th>\n      <th>Cumulative_deaths</th>\n      <th>Date_reported_X5.14.2020.12.00.00.AM</th>\n      <th>Date_reported_missing</th>\n      <th>Country_code_CN</th>\n      <th>Country_code_missing</th>\n      <th>Country_China</th>\n      <th>Country_missing</th>\n      <th>WHO_region_AFRO</th>\n      <th>WHO_region_AMRO</th>\n      <th>WHO_region_EMRO</th>\n      <th>WHO_region_SEARO</th>\n      <th>WHO_region_WPRO</th>\n      <th>WHO_region_other</th>\n      <th>WHO_region_missing</th>\n    </tr>\n  </thead>\n  <tbody>\n    <tr>\n      <th>0</th>\n      <td>1</td>\n      <td>1</td>\n      <td>1</td>\n      <td>0</td>\n      <td>0</td>\n      <td>0</td>\n      <td>0</td>\n      <td>0</td>\n      <td>0</td>\n      <td>0</td>\n      <td>0</td>\n      <td>0</td>\n      <td>0</td>\n      <td>1</td>\n      <td>0</td>\n      <td>0</td>\n      <td>0</td>\n      <td>0</td>\n    </tr>\n    <tr>\n      <th>1</th>\n      <td>2</td>\n      <td>0</td>\n      <td>1</td>\n      <td>0</td>\n      <td>0</td>\n      <td>0</td>\n      <td>0</td>\n      <td>0</td>\n      <td>0</td>\n      <td>0</td>\n      <td>0</td>\n      <td>0</td>\n      <td>0</td>\n      <td>1</td>\n      <td>0</td>\n      <td>0</td>\n      <td>0</td>\n      <td>0</td>\n    </tr>\n    <tr>\n      <th>2</th>\n      <td>3</td>\n      <td>0</td>\n      <td>1</td>\n      <td>0</td>\n      <td>0</td>\n      <td>0</td>\n      <td>0</td>\n      <td>0</td>\n      <td>0</td>\n      <td>0</td>\n      <td>0</td>\n      <td>0</td>\n      <td>0</td>\n      <td>1</td>\n      <td>0</td>\n      <td>0</td>\n      <td>0</td>\n      <td>0</td>\n    </tr>\n    <tr>\n      <th>3</th>\n      <td>4</td>\n      <td>0</td>\n      <td>1</td>\n      <td>0</td>\n      <td>0</td>\n      <td>0</td>\n      <td>0</td>\n      <td>0</td>\n      <td>0</td>\n      <td>0</td>\n      <td>0</td>\n      <td>0</td>\n      <td>0</td>\n      <td>1</td>\n      <td>0</td>\n      <td>0</td>\n      <td>0</td>\n      <td>0</td>\n    </tr>\n    <tr>\n      <th>4</th>\n      <td>5</td>\n      <td>0</td>\n      <td>1</td>\n      <td>0</td>\n      <td>0</td>\n      <td>0</td>\n      <td>0</td>\n      <td>0</td>\n      <td>0</td>\n      <td>0</td>\n      <td>0</td>\n      <td>0</td>\n      <td>0</td>\n      <td>1</td>\n      <td>0</td>\n      <td>0</td>\n      <td>0</td>\n      <td>0</td>\n    </tr>\n    <tr>\n      <th>5</th>\n      <td>6</td>\n      <td>0</td>\n      <td>1</td>\n      <td>0</td>\n      <td>0</td>\n      <td>0</td>\n      <td>0</td>\n      <td>0</td>\n      <td>0</td>\n      <td>0</td>\n      <td>0</td>\n      <td>0</td>\n      <td>0</td>\n      <td>1</td>\n      <td>0</td>\n      <td>0</td>\n      <td>0</td>\n      <td>0</td>\n    </tr>\n    <tr>\n      <th>6</th>\n      <td>7</td>\n      <td>0</td>\n      <td>1</td>\n      <td>0</td>\n      <td>0</td>\n      <td>0</td>\n      <td>0</td>\n      <td>0</td>\n      <td>0</td>\n      <td>0</td>\n      <td>0</td>\n      <td>0</td>\n      <td>0</td>\n      <td>1</td>\n      <td>0</td>\n      <td>0</td>\n      <td>0</td>\n      <td>0</td>\n    </tr>\n    <tr>\n      <th>7</th>\n      <td>8</td>\n      <td>0</td>\n      <td>1</td>\n      <td>0</td>\n      <td>0</td>\n      <td>0</td>\n      <td>0</td>\n      <td>0</td>\n      <td>0</td>\n      <td>0</td>\n      <td>0</td>\n      <td>0</td>\n      <td>0</td>\n      <td>1</td>\n      <td>0</td>\n      <td>0</td>\n      <td>0</td>\n      <td>0</td>\n    </tr>\n    <tr>\n      <th>8</th>\n      <td>9</td>\n      <td>0</td>\n      <td>1</td>\n      <td>0</td>\n      <td>0</td>\n      <td>0</td>\n      <td>0</td>\n      <td>0</td>\n      <td>0</td>\n      <td>0</td>\n      <td>0</td>\n      <td>0</td>\n      <td>0</td>\n      <td>1</td>\n      <td>0</td>\n      <td>0</td>\n      <td>0</td>\n      <td>0</td>\n    </tr>\n    <tr>\n      <th>9</th>\n      <td>10</td>\n      <td>0</td>\n      <td>1</td>\n      <td>0</td>\n      <td>0</td>\n      <td>0</td>\n      <td>0</td>\n      <td>0</td>\n      <td>0</td>\n      <td>0</td>\n      <td>0</td>\n      <td>0</td>\n      <td>0</td>\n      <td>1</td>\n      <td>0</td>\n      <td>0</td>\n      <td>0</td>\n      <td>0</td>\n    </tr>\n  </tbody>\n</table>\n</div>",
            "text/plain": "   Unnamed: 0  New_cases  Cumulative_cases  New_deaths  Cumulative_deaths  \\\n0           1          1                 1           0                  0   \n1           2          0                 1           0                  0   \n2           3          0                 1           0                  0   \n3           4          0                 1           0                  0   \n4           5          0                 1           0                  0   \n5           6          0                 1           0                  0   \n6           7          0                 1           0                  0   \n7           8          0                 1           0                  0   \n8           9          0                 1           0                  0   \n9          10          0                 1           0                  0   \n\n   Date_reported_X5.14.2020.12.00.00.AM  Date_reported_missing  \\\n0                                     0                      0   \n1                                     0                      0   \n2                                     0                      0   \n3                                     0                      0   \n4                                     0                      0   \n5                                     0                      0   \n6                                     0                      0   \n7                                     0                      0   \n8                                     0                      0   \n9                                     0                      0   \n\n   Country_code_CN  Country_code_missing  Country_China  Country_missing  \\\n0                0                     0              0                0   \n1                0                     0              0                0   \n2                0                     0              0                0   \n3                0                     0              0                0   \n4                0                     0              0                0   \n5                0                     0              0                0   \n6                0                     0              0                0   \n7                0                     0              0                0   \n8                0                     0              0                0   \n9                0                     0              0                0   \n\n   WHO_region_AFRO  WHO_region_AMRO  WHO_region_EMRO  WHO_region_SEARO  \\\n0                0                0                1                 0   \n1                0                0                1                 0   \n2                0                0                1                 0   \n3                0                0                1                 0   \n4                0                0                1                 0   \n5                0                0                1                 0   \n6                0                0                1                 0   \n7                0                0                1                 0   \n8                0                0                1                 0   \n9                0                0                1                 0   \n\n   WHO_region_WPRO  WHO_region_other  WHO_region_missing  \n0                0                 0                   0  \n1                0                 0                   0  \n2                0                 0                   0  \n3                0                 0                   0  \n4                0                 0                   0  \n5                0                 0                   0  \n6                0                 0                   0  \n7                0                 0                   0  \n8                0                 0                   0  \n9                0                 0                   0  "
          },
          "metadata": {}
        }
      ]
    },
    {
      "metadata": {
        "trusted": true
      },
      "cell_type": "code",
      "source": "df.count()",
      "execution_count": 11,
      "outputs": [
        {
          "output_type": "execute_result",
          "execution_count": 11,
          "data": {
            "text/plain": "Unnamed: 0                              26692\nNew_cases                               26692\nCumulative_cases                        26692\nNew_deaths                              26692\nCumulative_deaths                       26692\nDate_reported_X5.14.2020.12.00.00.AM    26692\nDate_reported_missing                   26692\nCountry_code_CN                         26692\nCountry_code_missing                    26692\nCountry_China                           26692\nCountry_missing                         26692\nWHO_region_AFRO                         26692\nWHO_region_AMRO                         26692\nWHO_region_EMRO                         26692\nWHO_region_SEARO                        26692\nWHO_region_WPRO                         26692\nWHO_region_other                        26692\nWHO_region_missing                      26692\ndtype: int64"
          },
          "metadata": {}
        }
      ]
    },
    {
      "metadata": {
        "trusted": true
      },
      "cell_type": "code",
      "source": "df.shape",
      "execution_count": 12,
      "outputs": [
        {
          "output_type": "execute_result",
          "execution_count": 12,
          "data": {
            "text/plain": "(26692, 18)"
          },
          "metadata": {}
        }
      ]
    },
    {
      "metadata": {
        "trusted": true
      },
      "cell_type": "code",
      "source": "df.corr()",
      "execution_count": 14,
      "outputs": [
        {
          "output_type": "execute_result",
          "execution_count": 14,
          "data": {
            "text/html": "<div>\n<style scoped>\n    .dataframe tbody tr th:only-of-type {\n        vertical-align: middle;\n    }\n\n    .dataframe tbody tr th {\n        vertical-align: top;\n    }\n\n    .dataframe thead th {\n        text-align: right;\n    }\n</style>\n<table border=\"1\" class=\"dataframe\">\n  <thead>\n    <tr style=\"text-align: right;\">\n      <th></th>\n      <th>New_cases</th>\n      <th>Cumulative_cases</th>\n      <th>New_deaths</th>\n      <th>Cumulative_deaths</th>\n    </tr>\n  </thead>\n  <tbody>\n    <tr>\n      <th>New_cases</th>\n      <td>1.000000</td>\n      <td>0.836820</td>\n      <td>0.739260</td>\n      <td>0.706902</td>\n    </tr>\n    <tr>\n      <th>Cumulative_cases</th>\n      <td>0.836820</td>\n      <td>1.000000</td>\n      <td>0.593743</td>\n      <td>0.919468</td>\n    </tr>\n    <tr>\n      <th>New_deaths</th>\n      <td>0.739260</td>\n      <td>0.593743</td>\n      <td>1.000000</td>\n      <td>0.597619</td>\n    </tr>\n    <tr>\n      <th>Cumulative_deaths</th>\n      <td>0.706902</td>\n      <td>0.919468</td>\n      <td>0.597619</td>\n      <td>1.000000</td>\n    </tr>\n  </tbody>\n</table>\n</div>",
            "text/plain": "                     New_cases   Cumulative_cases   New_deaths  \\\n New_cases            1.000000           0.836820     0.739260   \n Cumulative_cases     0.836820           1.000000     0.593743   \n New_deaths           0.739260           0.593743     1.000000   \n Cumulative_deaths    0.706902           0.919468     0.597619   \n\n                     Cumulative_deaths  \n New_cases                    0.706902  \n Cumulative_cases             0.919468  \n New_deaths                   0.597619  \n Cumulative_deaths            1.000000  "
          },
          "metadata": {}
        }
      ]
    },
    {
      "metadata": {
        "trusted": true
      },
      "cell_type": "code",
      "source": "y = df.Cumulative_deaths\nX = df.drop(['Cumulative_deaths'],axis=1)\nX.count()",
      "execution_count": 13,
      "outputs": [
        {
          "output_type": "execute_result",
          "execution_count": 13,
          "data": {
            "text/plain": "Unnamed: 0                              26692\nNew_cases                               26692\nCumulative_cases                        26692\nNew_deaths                              26692\nDate_reported_X5.14.2020.12.00.00.AM    26692\nDate_reported_missing                   26692\nCountry_code_CN                         26692\nCountry_code_missing                    26692\nCountry_China                           26692\nCountry_missing                         26692\nWHO_region_AFRO                         26692\nWHO_region_AMRO                         26692\nWHO_region_EMRO                         26692\nWHO_region_SEARO                        26692\nWHO_region_WPRO                         26692\nWHO_region_other                        26692\nWHO_region_missing                      26692\ndtype: int64"
          },
          "metadata": {}
        }
      ]
    },
    {
      "metadata": {
        "trusted": true
      },
      "cell_type": "code",
      "source": "X_train,X_test,y_train,y_test = train_test_split(X,y)\ntraining, testing = train_test_split(df,test_size = .2)",
      "execution_count": 33,
      "outputs": []
    },
    {
      "metadata": {
        "trusted": true
      },
      "cell_type": "code",
      "source": "",
      "execution_count": 40,
      "outputs": []
    },
    {
      "metadata": {
        "trusted": true
      },
      "cell_type": "code",
      "source": "y_train.count()\n",
      "execution_count": 15,
      "outputs": [
        {
          "output_type": "execute_result",
          "execution_count": 15,
          "data": {
            "text/plain": "20019"
          },
          "metadata": {}
        }
      ]
    },
    {
      "metadata": {
        "trusted": true
      },
      "cell_type": "code",
      "source": "20019/26692",
      "execution_count": 16,
      "outputs": [
        {
          "output_type": "execute_result",
          "execution_count": 16,
          "data": {
            "text/plain": "0.75"
          },
          "metadata": {}
        }
      ]
    },
    {
      "metadata": {
        "trusted": true
      },
      "cell_type": "code",
      "source": "#Auto ML\n!pip install auto_ml\nfrom auto_ml import Predictor\nfrom auto_ml.utils_models import load_ml_model\ncolumn_descriptions = {\n    'Cumulative_deaths':'output'\n}\nml_predictor_reg = Predictor(type_of_estimator='regressor', column_descriptions = column_descriptions)\nml_predictor_reg.train(training, ml_for_analytics = True)",
      "execution_count": 41,
      "outputs": [
        {
          "output_type": "stream",
          "text": "Requirement already satisfied: auto_ml in /home/nbuser/anaconda3_501/lib/python3.6/site-packages (2.9.10)\nRequirement already satisfied: python-dateutil<3.0,>=2.6.1 in /home/nbuser/anaconda3_501/lib/python3.6/site-packages (from auto_ml) (2.8.1)\nRequirement already satisfied: scikit-learn<1.0,>=0.18.1 in /home/nbuser/anaconda3_501/lib/python3.6/site-packages (from auto_ml) (0.20.3)\nRequirement already satisfied: pandas<1.0,>=0.18.0 in /home/nbuser/anaconda3_501/lib/python3.6/site-packages (from auto_ml) (0.23.4)\nRequirement already satisfied: sklearn-deap2<0.3,>=0.2.1 in /home/nbuser/anaconda3_501/lib/python3.6/site-packages (from auto_ml) (0.2.2)\nRequirement already satisfied: numpy<2.0,>=1.11.0 in /home/nbuser/anaconda3_501/lib/python3.6/site-packages (from auto_ml) (1.16.2)\nRequirement already satisfied: pathos<0.3.0,>=0.2.1 in /home/nbuser/anaconda3_501/lib/python3.6/site-packages (from auto_ml) (0.2.6)\nRequirement already satisfied: scipy<2.0,>=0.14.0 in /home/nbuser/anaconda3_501/lib/python3.6/site-packages (from auto_ml) (1.1.0)\nRequirement already satisfied: lightgbm<2.1,>=2.0.11 in /home/nbuser/anaconda3_501/lib/python3.6/site-packages (from auto_ml) (2.0.12)\nRequirement already satisfied: tabulate<1.0,>=0.7.5 in /home/nbuser/anaconda3_501/lib/python3.6/site-packages (from auto_ml) (0.8.2)\nRequirement already satisfied: h5py<3.0,>=2.7.0 in /home/nbuser/anaconda3_501/lib/python3.6/site-packages (from auto_ml) (2.8.0)\nRequirement already satisfied: dill<0.3,>=0.2.5 in /home/nbuser/anaconda3_501/lib/python3.6/site-packages (from auto_ml) (0.2.9)\nRequirement already satisfied: six>=1.5 in /home/nbuser/anaconda3_501/lib/python3.6/site-packages (from python-dateutil<3.0,>=2.6.1->auto_ml) (1.11.0)\nRequirement already satisfied: pytz>=2011k in /home/nbuser/anaconda3_501/lib/python3.6/site-packages (from pandas<1.0,>=0.18.0->auto_ml) (2019.3)\nRequirement already satisfied: deap>=1.0.2 in /home/nbuser/anaconda3_501/lib/python3.6/site-packages (from sklearn-deap2<0.3,>=0.2.1->auto_ml) (1.3.1)\nRequirement already satisfied: pox>=0.2.8 in /home/nbuser/anaconda3_501/lib/python3.6/site-packages (from pathos<0.3.0,>=0.2.1->auto_ml) (0.2.8)\nRequirement already satisfied: ppft>=1.6.6.2 in /home/nbuser/anaconda3_501/lib/python3.6/site-packages (from pathos<0.3.0,>=0.2.1->auto_ml) (1.6.6.2)\nRequirement already satisfied: multiprocess>=0.70.10 in /home/nbuser/anaconda3_501/lib/python3.6/site-packages (from pathos<0.3.0,>=0.2.1->auto_ml) (0.70.10)\n\u001b[33mWARNING: You are using pip version 19.3.1; however, version 20.1.1 is available.\nYou should consider upgrading via the 'pip install --upgrade pip' command.\u001b[0m\nWelcome to auto_ml! We're about to go through and make sense of your data using machine learning, and give you a production-ready pipeline to get predictions with.\n\nIf you have any issues, or new feature ideas, let us know at http://auto.ml\nYou are running on version 2.9.10\nNow using the model training_params that you passed in:\n{}\nAfter overwriting our defaults with your values, here are the final params that will be used to initialize the model:\n{'presort': False, 'learning_rate': 0.1, 'warm_start': True}\nRunning basic data cleaning\nFitting DataFrameVectorizer\nNow using the model training_params that you passed in:\n{}\nAfter overwriting our defaults with your values, here are the final params that will be used to initialize the model:\n{'presort': False, 'learning_rate': 0.1, 'warm_start': True}\n\n\n********************************************************************************************\nAbout to fit the pipeline for the model GradientBoostingRegressor to predict Cumulative_deaths\nStarted at:\n2020-07-11 23:26:07\n[1] random_holdout_set_from_training_data's score is: -6013.66\n[2] random_holdout_set_from_training_data's score is: -5485.376\n[3] random_holdout_set_from_training_data's score is: -5037.237\n[4] random_holdout_set_from_training_data's score is: -4631.571\n[5] random_holdout_set_from_training_data's score is: -4268.628\n[6] random_holdout_set_from_training_data's score is: -3951.368\n[7] random_holdout_set_from_training_data's score is: -3621.368\n[8] random_holdout_set_from_training_data's score is: -3334.711\n[9] random_holdout_set_from_training_data's score is: -3116.901\n[10] random_holdout_set_from_training_data's score is: -2883.556\n[11] random_holdout_set_from_training_data's score is: -2694.94\n[12] random_holdout_set_from_training_data's score is: -2511.991\n[13] random_holdout_set_from_training_data's score is: -2352.139\n[14] random_holdout_set_from_training_data's score is: -2237.351\n[15] random_holdout_set_from_training_data's score is: -2107.57\n[16] random_holdout_set_from_training_data's score is: -2004.441\n[17] random_holdout_set_from_training_data's score is: -1912.9\n[18] random_holdout_set_from_training_data's score is: -1847.437\n[19] random_holdout_set_from_training_data's score is: -1754.527\n[20] random_holdout_set_from_training_data's score is: -1670.773\n[21] random_holdout_set_from_training_data's score is: -1615.068\n[22] random_holdout_set_from_training_data's score is: -1563.287\n[23] random_holdout_set_from_training_data's score is: -1495.44\n[24] random_holdout_set_from_training_data's score is: -1445.036\n[25] random_holdout_set_from_training_data's score is: -1422.714\n[26] random_holdout_set_from_training_data's score is: -1383.032\n[27] random_holdout_set_from_training_data's score is: -1354.706\n[28] random_holdout_set_from_training_data's score is: -1339.254\n[29] random_holdout_set_from_training_data's score is: -1311.607\n[30] random_holdout_set_from_training_data's score is: -1296.408\n[31] random_holdout_set_from_training_data's score is: -1267.98\n[32] random_holdout_set_from_training_data's score is: -1232.842\n[33] random_holdout_set_from_training_data's score is: -1224.746\n[34] random_holdout_set_from_training_data's score is: -1194.234\n[35] random_holdout_set_from_training_data's score is: -1160.944\n[36] random_holdout_set_from_training_data's score is: -1147.784\n[37] random_holdout_set_from_training_data's score is: -1136.473\n[38] random_holdout_set_from_training_data's score is: -1114.496\n[39] random_holdout_set_from_training_data's score is: -1108.084\n[40] random_holdout_set_from_training_data's score is: -1088.036\n[41] random_holdout_set_from_training_data's score is: -1081.814\n[42] random_holdout_set_from_training_data's score is: -1073.341\n[43] random_holdout_set_from_training_data's score is: -1057.61\n[44] random_holdout_set_from_training_data's score is: -1051.993\n[45] random_holdout_set_from_training_data's score is: -1044.999\n[46] random_holdout_set_from_training_data's score is: -1037.64\n[47] random_holdout_set_from_training_data's score is: -1031.095\n[48] random_holdout_set_from_training_data's score is: -1012.614\n[49] random_holdout_set_from_training_data's score is: -1010.539\n[50] random_holdout_set_from_training_data's score is: -1007.685\n[52] random_holdout_set_from_training_data's score is: -1000.871\n[54] random_holdout_set_from_training_data's score is: -989.77\n[56] random_holdout_set_from_training_data's score is: -972.179\n[58] random_holdout_set_from_training_data's score is: -955.193\n[60] random_holdout_set_from_training_data's score is: -940.616\n[62] random_holdout_set_from_training_data's score is: -929.988\n[64] random_holdout_set_from_training_data's score is: -927.573\n[66] random_holdout_set_from_training_data's score is: -911.393\n[68] random_holdout_set_from_training_data's score is: -902.328\n[70] random_holdout_set_from_training_data's score is: -896.42\n[72] random_holdout_set_from_training_data's score is: -890.665\n[74] random_holdout_set_from_training_data's score is: -882.634\n[76] random_holdout_set_from_training_data's score is: -873.343\n[78] random_holdout_set_from_training_data's score is: -866.432\n[80] random_holdout_set_from_training_data's score is: -848.165\n[82] random_holdout_set_from_training_data's score is: -842.196\n[84] random_holdout_set_from_training_data's score is: -835.923\n[86] random_holdout_set_from_training_data's score is: -834.534\n[88] random_holdout_set_from_training_data's score is: -820.94\n[90] random_holdout_set_from_training_data's score is: -815.725\n[92] random_holdout_set_from_training_data's score is: -809.638\n",
          "name": "stdout"
        },
        {
          "output_type": "stream",
          "text": "[94] random_holdout_set_from_training_data's score is: -807.654\n[96] random_holdout_set_from_training_data's score is: -802.945\n[98] random_holdout_set_from_training_data's score is: -795.571\n[100] random_holdout_set_from_training_data's score is: -794.838\n[103] random_holdout_set_from_training_data's score is: -786.67\n[106] random_holdout_set_from_training_data's score is: -775.806\n[109] random_holdout_set_from_training_data's score is: -765.848\n[112] random_holdout_set_from_training_data's score is: -763.358\n[115] random_holdout_set_from_training_data's score is: -760.688\n[118] random_holdout_set_from_training_data's score is: -755.795\n[121] random_holdout_set_from_training_data's score is: -753.163\n[124] random_holdout_set_from_training_data's score is: -746.242\n[127] random_holdout_set_from_training_data's score is: -739.214\n[130] random_holdout_set_from_training_data's score is: -733.29\n[133] random_holdout_set_from_training_data's score is: -726.621\n[136] random_holdout_set_from_training_data's score is: -722.026\n[139] random_holdout_set_from_training_data's score is: -713.41\n[142] random_holdout_set_from_training_data's score is: -705.354\n[145] random_holdout_set_from_training_data's score is: -702.238\n[148] random_holdout_set_from_training_data's score is: -699.775\n[151] random_holdout_set_from_training_data's score is: -697.493\n[154] random_holdout_set_from_training_data's score is: -697.801\n[157] random_holdout_set_from_training_data's score is: -689.233\n[160] random_holdout_set_from_training_data's score is: -687.094\n[163] random_holdout_set_from_training_data's score is: -687.357\n[166] random_holdout_set_from_training_data's score is: -683.949\n[169] random_holdout_set_from_training_data's score is: -680.453\n[172] random_holdout_set_from_training_data's score is: -680.595\n[175] random_holdout_set_from_training_data's score is: -673.303\n[178] random_holdout_set_from_training_data's score is: -671.617\n[181] random_holdout_set_from_training_data's score is: -663.479\n[184] random_holdout_set_from_training_data's score is: -659.288\n[187] random_holdout_set_from_training_data's score is: -651.434\n[190] random_holdout_set_from_training_data's score is: -644.626\n[193] random_holdout_set_from_training_data's score is: -642.345\n[196] random_holdout_set_from_training_data's score is: -636.204\n[199] random_holdout_set_from_training_data's score is: -632.871\n[202] random_holdout_set_from_training_data's score is: -627.315\n[205] random_holdout_set_from_training_data's score is: -617.17\n[208] random_holdout_set_from_training_data's score is: -615.726\n[211] random_holdout_set_from_training_data's score is: -611.761\n[214] random_holdout_set_from_training_data's score is: -608.28\n[217] random_holdout_set_from_training_data's score is: -604.889\n[220] random_holdout_set_from_training_data's score is: -605.471\n[223] random_holdout_set_from_training_data's score is: -604.951\n[226] random_holdout_set_from_training_data's score is: -603.595\n[229] random_holdout_set_from_training_data's score is: -600.551\n[232] random_holdout_set_from_training_data's score is: -598.269\n[235] random_holdout_set_from_training_data's score is: -595.798\n[238] random_holdout_set_from_training_data's score is: -595.207\n[241] random_holdout_set_from_training_data's score is: -596.535\n[244] random_holdout_set_from_training_data's score is: -593.997\n[247] random_holdout_set_from_training_data's score is: -591.751\n[250] random_holdout_set_from_training_data's score is: -590.264\n[255] random_holdout_set_from_training_data's score is: -586.6\n[260] random_holdout_set_from_training_data's score is: -586.191\n[265] random_holdout_set_from_training_data's score is: -583.222\n[270] random_holdout_set_from_training_data's score is: -576.403\n[275] random_holdout_set_from_training_data's score is: -574.01\n[280] random_holdout_set_from_training_data's score is: -570.71\n[285] random_holdout_set_from_training_data's score is: -569.056\n[290] random_holdout_set_from_training_data's score is: -566.501\n[295] random_holdout_set_from_training_data's score is: -563.142\n[300] random_holdout_set_from_training_data's score is: -561.723\n[305] random_holdout_set_from_training_data's score is: -562.639\n[310] random_holdout_set_from_training_data's score is: -560.989\n[315] random_holdout_set_from_training_data's score is: -561.196\n[320] random_holdout_set_from_training_data's score is: -563.39\n[325] random_holdout_set_from_training_data's score is: -561.73\n[330] random_holdout_set_from_training_data's score is: -561.871\n[335] random_holdout_set_from_training_data's score is: -558.925\n[340] random_holdout_set_from_training_data's score is: -559.43\n[345] random_holdout_set_from_training_data's score is: -559.139\n[350] random_holdout_set_from_training_data's score is: -555.386\n[355] random_holdout_set_from_training_data's score is: -555.306\n[360] random_holdout_set_from_training_data's score is: -552.803\n[365] random_holdout_set_from_training_data's score is: -551.618\n[370] random_holdout_set_from_training_data's score is: -551.282\n[375] random_holdout_set_from_training_data's score is: -550.073\n[380] random_holdout_set_from_training_data's score is: -548.746\n[385] random_holdout_set_from_training_data's score is: -548.78\n[390] random_holdout_set_from_training_data's score is: -547.742\n[395] random_holdout_set_from_training_data's score is: -544.418\n[400] random_holdout_set_from_training_data's score is: -542.026\n[405] random_holdout_set_from_training_data's score is: -541.482\n[410] random_holdout_set_from_training_data's score is: -538.724\n[415] random_holdout_set_from_training_data's score is: -538.081\n[420] random_holdout_set_from_training_data's score is: -537.42\n[425] random_holdout_set_from_training_data's score is: -535.861\n[430] random_holdout_set_from_training_data's score is: -535.536\n[435] random_holdout_set_from_training_data's score is: -533.872\n[440] random_holdout_set_from_training_data's score is: -533.356\n[445] random_holdout_set_from_training_data's score is: -532.035\n[450] random_holdout_set_from_training_data's score is: -532.147\n[455] random_holdout_set_from_training_data's score is: -530.136\n[460] random_holdout_set_from_training_data's score is: -529.09\n[465] random_holdout_set_from_training_data's score is: -529.524\n[470] random_holdout_set_from_training_data's score is: -528.219\n[475] random_holdout_set_from_training_data's score is: -526.566\n[480] random_holdout_set_from_training_data's score is: -525.007\n[485] random_holdout_set_from_training_data's score is: -524.072\n[490] random_holdout_set_from_training_data's score is: -522.926\n[495] random_holdout_set_from_training_data's score is: -522.246\n[500] random_holdout_set_from_training_data's score is: -521.805\n[510] random_holdout_set_from_training_data's score is: -521.848\n[520] random_holdout_set_from_training_data's score is: -520.691\n[530] random_holdout_set_from_training_data's score is: -519.393\n[540] random_holdout_set_from_training_data's score is: -519.393\n[550] random_holdout_set_from_training_data's score is: -517.247\n[560] random_holdout_set_from_training_data's score is: -515.894\n[570] random_holdout_set_from_training_data's score is: -515.6\n[580] random_holdout_set_from_training_data's score is: -514.098\n[590] random_holdout_set_from_training_data's score is: -512.967\n[600] random_holdout_set_from_training_data's score is: -513.483\n[610] random_holdout_set_from_training_data's score is: -512.901\n[620] random_holdout_set_from_training_data's score is: -512.96\n[630] random_holdout_set_from_training_data's score is: -512.084\n[640] random_holdout_set_from_training_data's score is: -511.716\n[650] random_holdout_set_from_training_data's score is: -511.239\n[660] random_holdout_set_from_training_data's score is: -510.604\n[670] random_holdout_set_from_training_data's score is: -509.959\n[680] random_holdout_set_from_training_data's score is: -510.586\n[690] random_holdout_set_from_training_data's score is: -509.603\n[700] random_holdout_set_from_training_data's score is: -509.332\n[710] random_holdout_set_from_training_data's score is: -507.582\n[720] random_holdout_set_from_training_data's score is: -506.917\n[730] random_holdout_set_from_training_data's score is: -506.253\n",
          "name": "stdout"
        },
        {
          "output_type": "stream",
          "text": "[740] random_holdout_set_from_training_data's score is: -505.773\n[750] random_holdout_set_from_training_data's score is: -506.008\n[760] random_holdout_set_from_training_data's score is: -504.492\n[770] random_holdout_set_from_training_data's score is: -502.974\n[780] random_holdout_set_from_training_data's score is: -502.128\n[790] random_holdout_set_from_training_data's score is: -502.619\n[800] random_holdout_set_from_training_data's score is: -501.93\n[810] random_holdout_set_from_training_data's score is: -500.932\n[820] random_holdout_set_from_training_data's score is: -499.756\n[830] random_holdout_set_from_training_data's score is: -498.896\n[840] random_holdout_set_from_training_data's score is: -497.99\n[850] random_holdout_set_from_training_data's score is: -497.643\n[860] random_holdout_set_from_training_data's score is: -497.541\n[870] random_holdout_set_from_training_data's score is: -496.755\n[880] random_holdout_set_from_training_data's score is: -496.219\n[890] random_holdout_set_from_training_data's score is: -496.32\n[900] random_holdout_set_from_training_data's score is: -496.084\n[910] random_holdout_set_from_training_data's score is: -495.903\n[920] random_holdout_set_from_training_data's score is: -495.214\n[930] random_holdout_set_from_training_data's score is: -494.784\n[940] random_holdout_set_from_training_data's score is: -494.299\n[950] random_holdout_set_from_training_data's score is: -493.728\n[960] random_holdout_set_from_training_data's score is: -493.802\n[970] random_holdout_set_from_training_data's score is: -493.412\n[980] random_holdout_set_from_training_data's score is: -493.256\n[990] random_holdout_set_from_training_data's score is: -492.748\n[1000] random_holdout_set_from_training_data's score is: -492.264\n[1020] random_holdout_set_from_training_data's score is: -491.196\n[1040] random_holdout_set_from_training_data's score is: -490.176\n[1060] random_holdout_set_from_training_data's score is: -488.951\n[1080] random_holdout_set_from_training_data's score is: -488.056\n[1100] random_holdout_set_from_training_data's score is: -488.223\n[1120] random_holdout_set_from_training_data's score is: -488.298\n[1140] random_holdout_set_from_training_data's score is: -487.527\n[1160] random_holdout_set_from_training_data's score is: -486.258\n[1180] random_holdout_set_from_training_data's score is: -485.407\n[1200] random_holdout_set_from_training_data's score is: -484.484\n[1220] random_holdout_set_from_training_data's score is: -483.652\n[1240] random_holdout_set_from_training_data's score is: -482.664\n[1260] random_holdout_set_from_training_data's score is: -481.891\n[1280] random_holdout_set_from_training_data's score is: -481.903\n[1300] random_holdout_set_from_training_data's score is: -481.405\n[1320] random_holdout_set_from_training_data's score is: -481.325\n[1340] random_holdout_set_from_training_data's score is: -480.715\n[1360] random_holdout_set_from_training_data's score is: -480.544\n[1380] random_holdout_set_from_training_data's score is: -480.041\n[1400] random_holdout_set_from_training_data's score is: -480.324\n[1420] random_holdout_set_from_training_data's score is: -480.467\n[1440] random_holdout_set_from_training_data's score is: -480.315\n[1460] random_holdout_set_from_training_data's score is: -479.904\n[1480] random_holdout_set_from_training_data's score is: -479.416\n[1500] random_holdout_set_from_training_data's score is: -479.07\n[1520] random_holdout_set_from_training_data's score is: -478.456\n[1540] random_holdout_set_from_training_data's score is: -478.337\n[1560] random_holdout_set_from_training_data's score is: -478.197\n[1580] random_holdout_set_from_training_data's score is: -478.207\n[1600] random_holdout_set_from_training_data's score is: -477.88\n[1620] random_holdout_set_from_training_data's score is: -477.48\n[1640] random_holdout_set_from_training_data's score is: -477.028\n[1660] random_holdout_set_from_training_data's score is: -476.795\n[1680] random_holdout_set_from_training_data's score is: -476.478\n[1700] random_holdout_set_from_training_data's score is: -476.055\n[1720] random_holdout_set_from_training_data's score is: -475.884\n[1740] random_holdout_set_from_training_data's score is: -475.736\n[1760] random_holdout_set_from_training_data's score is: -475.724\n[1780] random_holdout_set_from_training_data's score is: -475.323\n[1800] random_holdout_set_from_training_data's score is: -475.152\n[1820] random_holdout_set_from_training_data's score is: -475.055\n[1840] random_holdout_set_from_training_data's score is: -474.797\n[1860] random_holdout_set_from_training_data's score is: -474.54\n[1880] random_holdout_set_from_training_data's score is: -474.24\n[1900] random_holdout_set_from_training_data's score is: -473.941\n[1920] random_holdout_set_from_training_data's score is: -473.681\n[1940] random_holdout_set_from_training_data's score is: -473.228\n[1960] random_holdout_set_from_training_data's score is: -473.287\n[1980] random_holdout_set_from_training_data's score is: -473.117\n[2000] random_holdout_set_from_training_data's score is: -473.089\n[2100] random_holdout_set_from_training_data's score is: -472.599\n[2200] random_holdout_set_from_training_data's score is: -472.068\n[2300] random_holdout_set_from_training_data's score is: -471.347\n[2400] random_holdout_set_from_training_data's score is: -470.825\n[2500] random_holdout_set_from_training_data's score is: -470.073\n[2600] random_holdout_set_from_training_data's score is: -470.046\n[2700] random_holdout_set_from_training_data's score is: -469.521\n[2800] random_holdout_set_from_training_data's score is: -469.285\n[2900] random_holdout_set_from_training_data's score is: -468.925\n[3000] random_holdout_set_from_training_data's score is: -468.61\n[3100] random_holdout_set_from_training_data's score is: -468.591\n[3200] random_holdout_set_from_training_data's score is: -468.306\n[3300] random_holdout_set_from_training_data's score is: -468.134\n[3400] random_holdout_set_from_training_data's score is: -467.857\n[3500] random_holdout_set_from_training_data's score is: -467.611\n[3600] random_holdout_set_from_training_data's score is: -467.137\n[3700] random_holdout_set_from_training_data's score is: -466.832\n[3800] random_holdout_set_from_training_data's score is: -466.73\n[3900] random_holdout_set_from_training_data's score is: -466.595\n[4000] random_holdout_set_from_training_data's score is: -466.472\n[4100] random_holdout_set_from_training_data's score is: -466.531\n[4200] random_holdout_set_from_training_data's score is: -466.378\n[4300] random_holdout_set_from_training_data's score is: -466.325\n[4400] random_holdout_set_from_training_data's score is: -466.358\n[4500] random_holdout_set_from_training_data's score is: -466.5\n[4600] random_holdout_set_from_training_data's score is: -466.528\n[4700] random_holdout_set_from_training_data's score is: -466.397\n[4800] random_holdout_set_from_training_data's score is: -466.44\n[4900] random_holdout_set_from_training_data's score is: -466.454\n[5000] random_holdout_set_from_training_data's score is: -466.417\n[5100] random_holdout_set_from_training_data's score is: -466.47\n[5200] random_holdout_set_from_training_data's score is: -466.522\n[5300] random_holdout_set_from_training_data's score is: -466.517\n[5400] random_holdout_set_from_training_data's score is: -466.547\n[5500] random_holdout_set_from_training_data's score is: -466.494\n[5600] random_holdout_set_from_training_data's score is: -466.383\n[5700] random_holdout_set_from_training_data's score is: -466.233\n[5800] random_holdout_set_from_training_data's score is: -466.161\n[5900] random_holdout_set_from_training_data's score is: -466.107\n[6000] random_holdout_set_from_training_data's score is: -466.127\n[6100] random_holdout_set_from_training_data's score is: -466.097\n[6200] random_holdout_set_from_training_data's score is: -466.06\n[6300] random_holdout_set_from_training_data's score is: -465.956\n[6400] random_holdout_set_from_training_data's score is: -465.919\n[6500] random_holdout_set_from_training_data's score is: -465.87\n[6600] random_holdout_set_from_training_data's score is: -465.839\n[6700] random_holdout_set_from_training_data's score is: -465.87\n[6800] random_holdout_set_from_training_data's score is: -465.867\n",
          "name": "stdout"
        },
        {
          "output_type": "stream",
          "text": "[6900] random_holdout_set_from_training_data's score is: -465.825\n[7000] random_holdout_set_from_training_data's score is: -465.8\n[7100] random_holdout_set_from_training_data's score is: -465.775\n[7200] random_holdout_set_from_training_data's score is: -465.768\n[7300] random_holdout_set_from_training_data's score is: -465.725\n[7400] random_holdout_set_from_training_data's score is: -465.685\n[7500] random_holdout_set_from_training_data's score is: -465.638\n[7600] random_holdout_set_from_training_data's score is: -465.631\n[7700] random_holdout_set_from_training_data's score is: -465.594\n[7800] random_holdout_set_from_training_data's score is: -465.519\n[7900] random_holdout_set_from_training_data's score is: -465.507\n[8000] random_holdout_set_from_training_data's score is: -465.463\n[8100] random_holdout_set_from_training_data's score is: -465.405\n[8200] random_holdout_set_from_training_data's score is: -465.373\n[8300] random_holdout_set_from_training_data's score is: -465.352\n[8400] random_holdout_set_from_training_data's score is: -465.371\n[8500] random_holdout_set_from_training_data's score is: -465.381\n[8600] random_holdout_set_from_training_data's score is: -465.335\n[8700] random_holdout_set_from_training_data's score is: -465.34\n[8800] random_holdout_set_from_training_data's score is: -465.319\n[8900] random_holdout_set_from_training_data's score is: -465.321\n[9000] random_holdout_set_from_training_data's score is: -465.306\n[9100] random_holdout_set_from_training_data's score is: -465.305\n[9200] random_holdout_set_from_training_data's score is: -465.285\n[9300] random_holdout_set_from_training_data's score is: -465.264\n[9400] random_holdout_set_from_training_data's score is: -465.26\n[9500] random_holdout_set_from_training_data's score is: -465.259\n[9600] random_holdout_set_from_training_data's score is: -465.251\n[9700] random_holdout_set_from_training_data's score is: -465.233\n[9800] random_holdout_set_from_training_data's score is: -465.223\n[9900] random_holdout_set_from_training_data's score is: -465.221\nThe number of estimators that were the best for this training dataset: 9900\nThe best score on the holdout set: -465.22101784630723\nFinished training the pipeline!\nTotal training time:\n0:53:03\n\n\nHere are the results from our GradientBoostingRegressor\npredicting Cumulative_deaths\nCalculating feature responses, for advanced analytics.\n",
          "name": "stdout"
        },
        {
          "output_type": "stream",
          "text": "/home/nbuser/anaconda3_501/lib/python3.6/site-packages/sklearn/model_selection/_split.py:2179: FutureWarning: From version 0.21, test_size will always complement train_size unless both are specified.\n  FutureWarning)\n",
          "name": "stderr"
        },
        {
          "output_type": "execute_result",
          "execution_count": 41,
          "data": {
            "text/plain": "<auto_ml.predictor.Predictor at 0x7f9ccdeaf128>"
          },
          "metadata": {}
        }
      ]
    },
    {
      "metadata": {
        "trusted": true
      },
      "cell_type": "code",
      "source": "ml_predictor_reg.score(testing, testing.Cumulative_deaths)",
      "execution_count": 42,
      "outputs": [
        {
          "output_type": "stream",
          "text": "None\n\n\n***********************************************\nAdvanced scoring metrics for the trained regression model on this particular dataset:\n\nHere is the overall RMSE for these predictions:\n525.9549316248547\n\nHere is the average of the predictions:\n1103.2105625944014\n\nHere is the average actual value on this validation set:\n1101.6204106099206\n\nHere is the median prediction:\n8.45989434306044\n\nHere is the median actual value:\n9.0\n\nHere is the mean absolute error:\n88.06817282006888\n\nHere is the median absolute error (robust to outliers):\n2.3227213823760735\n\nHere is the explained variance:\n0.9937649304726762\n\nHere is the R-squared value:\n0.9937648734791564\nCount of positive differences (prediction > actual):\n3278\nCount of negative differences:\n3395\nAverage positive difference:\n91.25838947845537\nAverage negative difference:\n-84.98789882708196\n\n\n***********************************************\n\n\n",
          "name": "stdout"
        },
        {
          "output_type": "execute_result",
          "execution_count": 42,
          "data": {
            "text/plain": "-525.9549316248547"
          },
          "metadata": {}
        }
      ]
    },
    {
      "metadata": {
        "trusted": true
      },
      "cell_type": "code",
      "source": "regressor = LinearRegression()\ntrainAlg = regressor.fit(X_train,y_train)",
      "execution_count": 17,
      "outputs": []
    },
    {
      "metadata": {
        "trusted": true
      },
      "cell_type": "code",
      "source": "regressor = RandomForestRegressor()\nRFtrainAlg = regressor.fit(X_train,y_train)",
      "execution_count": 25,
      "outputs": [
        {
          "output_type": "stream",
          "text": "/home/nbuser/anaconda3_501/lib/python3.6/site-packages/sklearn/ensemble/forest.py:246: FutureWarning: The default value of n_estimators will change from 10 in version 0.20 to 100 in 0.22.\n  \"10 in version 0.20 to 100 in 0.22.\", FutureWarning)\n",
          "name": "stderr"
        }
      ]
    },
    {
      "metadata": {
        "trusted": true
      },
      "cell_type": "code",
      "source": "regressor = DecisionTreeRegressor()\nDTtrainAlg = regressor.fit(X_train,y_train)",
      "execution_count": 31,
      "outputs": []
    },
    {
      "metadata": {
        "trusted": true
      },
      "cell_type": "code",
      "source": "#Decision Tree Algorithm\ny_pred = DTtrainAlg.predict(X_test)\nprint(r2_score(y_test, y_pred))\nprint(mean_squared_error(y_test, y_pred))",
      "execution_count": 32,
      "outputs": [
        {
          "output_type": "stream",
          "text": "0.9936851701281927\n269606.01213846845\n",
          "name": "stdout"
        }
      ]
    },
    {
      "metadata": {
        "trusted": true
      },
      "cell_type": "code",
      "source": "#Random Forests Algorithm\ny_pred = RFtrainAlg.predict(X_test)\nprint(r2_score(y_test, y_pred))\nprint(mean_squared_error(y_test, y_pred))",
      "execution_count": 26,
      "outputs": [
        {
          "output_type": "stream",
          "text": "0.9935484945499441\n275441.2536820021\n",
          "name": "stdout"
        }
      ]
    },
    {
      "metadata": {
        "trusted": true
      },
      "cell_type": "code",
      "source": "#Linear Regression\ny_pred = trainAlg.predict(X_test)\nprint(r2_score(y_test, y_pred))\nprint(mean_squared_error(y_test, y_pred))",
      "execution_count": 20,
      "outputs": [
        {
          "output_type": "stream",
          "text": "0.8728264286738641\n5429561.858462767\n",
          "name": "stdout"
        }
      ]
    }
  ],
  "metadata": {
    "kernelspec": {
      "name": "python36",
      "display_name": "Python 3.6",
      "language": "python"
    },
    "language_info": {
      "mimetype": "text/x-python",
      "nbconvert_exporter": "python",
      "name": "python",
      "pygments_lexer": "ipython3",
      "version": "3.6.6",
      "file_extension": ".py",
      "codemirror_mode": {
        "version": 3,
        "name": "ipython"
      }
    }
  },
  "nbformat": 4,
  "nbformat_minor": 2
}